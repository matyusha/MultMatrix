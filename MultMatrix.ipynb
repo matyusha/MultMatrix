{
  "nbformat": 4,
  "nbformat_minor": 0,
  "metadata": {
    "colab": {
      "name": "MultMatrix",
      "provenance": [],
      "collapsed_sections": [],
      "authorship_tag": "ABX9TyM2yqCtPUUhpGVnkJXBt67Z",
      "include_colab_link": true
    },
    "kernelspec": {
      "name": "python3",
      "display_name": "Python 3"
    },
    "accelerator": "GPU"
  },
  "cells": [
    {
      "cell_type": "markdown",
      "metadata": {
        "id": "view-in-github",
        "colab_type": "text"
      },
      "source": [
        "<a href=\"https://colab.research.google.com/github/matyusha/MultMatrix/blob/main/MultMatrix.ipynb\" target=\"_parent\"><img src=\"https://colab.research.google.com/assets/colab-badge.svg\" alt=\"Open In Colab\"/></a>"
      ]
    },
    {
      "cell_type": "code",
      "metadata": {
        "id": "DFvnKjEiQMMx",
        "outputId": "d1f0fc1c-1047-4e0d-bc25-d87e7c33afd1",
        "colab": {
          "base_uri": "https://localhost:8080/"
        }
      },
      "source": [
        "!pip install pycuda"
      ],
      "execution_count": 49,
      "outputs": [
        {
          "output_type": "stream",
          "text": [
            "Requirement already satisfied: pycuda in /usr/local/lib/python3.6/dist-packages (2020.1)\n",
            "Requirement already satisfied: decorator>=3.2.0 in /usr/local/lib/python3.6/dist-packages (from pycuda) (4.4.2)\n",
            "Requirement already satisfied: pytools>=2011.2 in /usr/local/lib/python3.6/dist-packages (from pycuda) (2020.4.3)\n",
            "Requirement already satisfied: appdirs>=1.4.0 in /usr/local/lib/python3.6/dist-packages (from pycuda) (1.4.4)\n",
            "Requirement already satisfied: mako in /usr/local/lib/python3.6/dist-packages (from pycuda) (1.1.3)\n",
            "Requirement already satisfied: dataclasses>=0.7; python_version <= \"3.6\" in /usr/local/lib/python3.6/dist-packages (from pytools>=2011.2->pycuda) (0.7)\n",
            "Requirement already satisfied: six>=1.8.0 in /usr/local/lib/python3.6/dist-packages (from pytools>=2011.2->pycuda) (1.15.0)\n",
            "Requirement already satisfied: numpy>=1.6.0 in /usr/local/lib/python3.6/dist-packages (from pytools>=2011.2->pycuda) (1.18.5)\n",
            "Requirement already satisfied: MarkupSafe>=0.9.2 in /usr/local/lib/python3.6/dist-packages (from mako->pycuda) (1.1.1)\n"
          ],
          "name": "stdout"
        }
      ]
    },
    {
      "cell_type": "code",
      "metadata": {
        "id": "JRBv6apXRv7P",
        "outputId": "0649d388-d13e-48bb-acc0-8c6fc0bb25d6",
        "colab": {
          "base_uri": "https://localhost:8080/",
          "height": 35
        }
      },
      "source": [
        "import pycuda.autoinit\n",
        "from pycuda.tools import make_default_context\n",
        "make_default_context().get_device().name()"
      ],
      "execution_count": 50,
      "outputs": [
        {
          "output_type": "execute_result",
          "data": {
            "application/vnd.google.colaboratory.intrinsic+json": {
              "type": "string"
            },
            "text/plain": [
              "'Tesla T4'"
            ]
          },
          "metadata": {
            "tags": []
          },
          "execution_count": 50
        }
      ]
    },
    {
      "cell_type": "code",
      "metadata": {
        "id": "EbJfNcRXSisv",
        "outputId": "be5c7a57-f0d4-4557-cd34-f7d3c89163c0",
        "colab": {
          "base_uri": "https://localhost:8080/"
        }
      },
      "source": [
        "import numpy as np\n",
        "from numpy import linalg as la\n",
        "from pycuda import driver, compiler, gpuarray, tools\n",
        "from time import time\n",
        "\n",
        "for i in range(0, 5):\n",
        "  \n",
        "  MATRIX_SIZE = 128*2**i\n",
        "  print(\"MATRIX_SIZE\", MATRIX_SIZE)\n",
        "\n",
        "  def matmul(a_gpu,b_gpu,MATRIX_SIZE=MATRIX_SIZE):\n",
        "    kernel_code_template = \"\"\"\n",
        "    __global__ void MatrixMulKernel(float *A, float *B, float *C)\n",
        "    {\n",
        "\n",
        "      const uint wA = %(MATRIX_SIZE)s;\n",
        "      const uint wB = %(MATRIX_SIZE)s;\n",
        "\n",
        "      const uint bx = blockIdx.x;\n",
        "      const uint by = blockIdx.y;\n",
        "\n",
        "      const uint tx = threadIdx.x;\n",
        "      const uint ty = threadIdx.y;\n",
        "\n",
        "      const uint aBegin = wA * %(BLOCK_SIZE)s * by;\n",
        "      const uint aEnd = aBegin + wA - 1;\n",
        "      const uint aStep = %(BLOCK_SIZE)s;\n",
        "\n",
        "      const uint bBegin = %(BLOCK_SIZE)s * bx;\n",
        "      const uint bStep = %(BLOCK_SIZE)s * wB;\n",
        "\n",
        "      float Csub = 0;\n",
        "      for (int a = aBegin, b = bBegin;\n",
        "           a <= aEnd;\n",
        "           a += aStep, b += bStep)\n",
        "        {\n",
        "          __shared__ float As[%(BLOCK_SIZE)s][%(BLOCK_SIZE)s];\n",
        "          __shared__ float Bs[%(BLOCK_SIZE)s][%(BLOCK_SIZE)s];\n",
        "\n",
        "          As[ty][tx] = A[a + wA * ty + tx];\n",
        "          Bs[ty][tx] = B[b + wB * ty + tx];\n",
        "\n",
        "          __syncthreads();\n",
        "\n",
        "          for (int k = 0; k < %(BLOCK_SIZE)s; ++k)\n",
        "            Csub += As[ty][k] * Bs[k][tx];\n",
        "\n",
        "          __syncthreads();\n",
        "        }\n",
        "\n",
        "      const uint c = wB * %(BLOCK_SIZE)s * by + %(BLOCK_SIZE)s * bx;\n",
        "      C[c + wB * ty + tx] = Csub;\n",
        "\n",
        "    }\n",
        "    \"\"\"\n",
        "\n",
        "    TILE_SIZE = 32\n",
        "    BLOCK_SIZE = TILE_SIZE\n",
        "\n",
        "    kernel_code = kernel_code_template % {\n",
        "        'MATRIX_SIZE': MATRIX_SIZE,\n",
        "        'BLOCK_SIZE': BLOCK_SIZE,\n",
        "        }\n",
        "\n",
        "    mod = compiler.SourceModule(kernel_code)\n",
        "    c_gpu = gpuarray.empty((MATRIX_SIZE, MATRIX_SIZE), np.float32)\n",
        "\n",
        "    matrixmul = mod.get_function(\"MatrixMulKernel\")\n",
        "\n",
        "    matrixmul(\n",
        "        a_gpu, b_gpu,\n",
        "        c_gpu,\n",
        "        grid = (MATRIX_SIZE // TILE_SIZE, MATRIX_SIZE // TILE_SIZE),\n",
        "        block = (TILE_SIZE, TILE_SIZE, 1),\n",
        "        )\n",
        "\n",
        "    return c_gpu\n",
        "\n",
        "  a_cpu = np.random.randn(MATRIX_SIZE, MATRIX_SIZE).astype(np.float32)\n",
        "  b_cpu = np.random.randn(MATRIX_SIZE, MATRIX_SIZE).astype(np.float32)\n",
        "\n",
        "  st = time()\n",
        "  c_cpu = np.dot(a_cpu, b_cpu)\n",
        "  cpu_time = time() - st\n",
        "\n",
        "  st = time()\n",
        "  a_gpu = gpuarray.to_gpu(a_cpu)\n",
        "  b_gpu = gpuarray.to_gpu(b_cpu)\n",
        "  c_gpu = matmul(a_gpu,b_gpu).get()\n",
        "  gpu_time = time() - st\n",
        "\n",
        "  print(\"TIME ON CPU: {:.6f}\".format(cpu_time))\n",
        "  print(\"TIME ON GPU: {:.6f}\".format(gpu_time))\n",
        "  print(\"SPEEDUP {:.3f}\".format(cpu_time/gpu_time)) \n",
        "  print(\"CPU-GPU difference: {:.6f}\".format(np.max(c_cpu - c_gpu)))\n",
        "  print()\n",
        "  print(\"-\" * 40)"
      ],
      "execution_count": 52,
      "outputs": [
        {
          "output_type": "stream",
          "text": [
            "MATRIX_SIZE 128\n",
            "TIME ON CPU: 0.000235\n",
            "TIME ON GPU: 0.003399\n",
            "SPEEDUP 0.069\n",
            "CPU-GPU difference: 0.000000\n",
            "\n",
            "----------------------------------------\n",
            "MATRIX_SIZE 256\n",
            "TIME ON CPU: 0.000738\n",
            "TIME ON GPU: 0.002383\n",
            "SPEEDUP 0.310\n",
            "CPU-GPU difference: 0.000000\n",
            "\n",
            "----------------------------------------\n",
            "MATRIX_SIZE 512\n",
            "TIME ON CPU: 0.004339\n",
            "TIME ON GPU: 0.003542\n",
            "SPEEDUP 1.225\n",
            "CPU-GPU difference: 0.000084\n",
            "\n",
            "----------------------------------------\n",
            "MATRIX_SIZE 1024\n",
            "TIME ON CPU: 0.037209\n",
            "TIME ON GPU: 0.011404\n",
            "SPEEDUP 3.263\n",
            "CPU-GPU difference: 0.000183\n",
            "\n",
            "----------------------------------------\n",
            "MATRIX_SIZE 2048\n",
            "TIME ON CPU: 0.270370\n",
            "TIME ON GPU: 0.056751\n",
            "SPEEDUP 4.764\n",
            "CPU-GPU difference: 0.000549\n",
            "\n",
            "----------------------------------------\n"
          ],
          "name": "stdout"
        }
      ]
    }
  ]
}